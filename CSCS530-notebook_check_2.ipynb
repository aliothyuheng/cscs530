{
 "metadata": {
  "name": "",
  "signature": "sha256:2ecc5610eff04500c9c60c28c6dd99a855f79bd3f91d908adaff748632fc477b"
 },
 "nbformat": 3,
 "nbformat_minor": 0,
 "worksheets": [
  {
   "cells": [
    {
     "cell_type": "code",
     "collapsed": false,
     "input": [
      "cd"
     ],
     "language": "python",
     "metadata": {},
     "outputs": [
      {
       "output_type": "stream",
       "stream": "stdout",
       "text": [
        "C:\\Users\\olivi_000\n"
       ]
      }
     ],
     "prompt_number": 8
    },
    {
     "cell_type": "code",
     "collapsed": false,
     "input": [
      "#Stroring model result using amazon project model\n",
      "from amazon_project import Model"
     ],
     "language": "python",
     "metadata": {},
     "outputs": [],
     "prompt_number": 12
    },
    {
     "cell_type": "code",
     "collapsed": false,
     "input": [
      "# Imports\n",
      "import datetime\n",
      "import os\n",
      "import time\n",
      "\n",
      "# Scientific computing imports\n",
      "import numpy\n",
      "import matplotlib.pyplot as plt\n",
      "import networkx\n",
      "import pandas\n",
      "import seaborn; seaborn.set()\n",
      "\n",
      "# Import widget methods\n",
      "from IPython.html.widgets import *"
     ],
     "language": "python",
     "metadata": {},
     "outputs": [],
     "prompt_number": 10
    },
    {
     "cell_type": "code",
     "collapsed": false,
     "input": [
      "# Create our test model\n",
      "m = Model(product_number=1000, customer_number=200)\n",
      "for t in xrange(200):\n",
      "    m.step()"
     ],
     "language": "python",
     "metadata": {},
     "outputs": [],
     "prompt_number": 11
    },
    {
     "cell_type": "code",
     "collapsed": false,
     "input": [
      "def store_model_parameters(model, run_output_path):\n",
      "    \"\"\"\n",
      "    Store model parameters from a model to the run output path.\n",
      "    \"\"\"\n",
      "    # Create parameters dictionary\n",
      "    model_parameters = {\"product_number\":product_number,\n",
      "                        \"customer_number\":customer_number,\n",
      "                        \"customer_budget_mean\":customer_budget_mean,\n",
      "                        \"customer_budget_std\":customer_budget_std,\n",
      "                        \"customer_purchase_rate_mean\":customer_purchase_rate_mean,\n",
      "                        \"customer_purchase_rate_std\":customer_purchase_rate_std,\n",
      "                        \"prodcut_price_mean\":prodcut_price_mean,\n",
      "                        \"product_price_std\":product_price_std,\n",
      "                        \"product_review_mean\":product_review_mean,\n",
      "                        \"product_review_std\":product_review_std,\n",
      "                        \"product_rank_mean\":product_rank_mean,\n",
      "                        \"product_rank_std\":product_rank_std,\n",
      "                        \"product_co_purchase_number_variable\":product_co_purchase_number_variable\n",
      "                       }\n",
      "    # Convert to dataframe and save\n",
      "    model_parameters_df = pandas.DataFrame(model_parameters.items(),\n",
      "                             columns=[\"parameter\", \"value\"])\n",
      "    model_parameters_df.to_csv(os.path.join(run_output_path, \"parameters.csv\"))\n",
      "    \n",
      "\n",
      "def store_model_csv(model, run_output_path):\n",
      "    \"\"\"\n",
      "    Store CSV data from a model to the run output path.\n",
      "    \"\"\"\n",
      "    # Create history network dataframe\n",
      "    try:\n",
      "        history_network_df = pandas.DataFrame(model.history_network,\n",
      "                     columns=[\"time\", \"product_1\", \"product_2\", \"count\"])\n",
      "    except ValueError:\n",
      "        # Sometimes, we have no network in stored in the history_network\n",
      "        history_network_df = pandas.DataFrame(columns=[\"time\", \"product_1\", \"product_2\", \"count\"])\n",
      "    \n",
      "    # Create history purchase dataframe\n",
      "    try:\n",
      "        history_purchase_df = pandas.DataFrame(model.history_purchase,\n",
      "                     columns=[\"time\", \"product_list\"])\n",
      "    except ValueError:\n",
      "        # Sometimes, we have no network in stored in the history_purchase\n",
      "        history_purchase_df = pandas.DataFrame(columns=[\"time\", \"product_list\"])\n",
      "    \n",
      "    # Save the dataframes\n",
      "    history_network_df.to_csv(os.path.join(run_output_path, \"network.csv\"))\n",
      "    history_purchase_df.to_csv(os.path.join(run_output_path, \"purchase.csv\"))  \n",
      "\n",
      "def store_model(model, output_path=\"output\"):\n",
      "    \"\"\"\n",
      "    Store a model to the model output path.\n",
      "    \"\"\"\n",
      "    # First, we need to make sure the directory exists.\n",
      "    try:\n",
      "        os.makedirs(output_path)\n",
      "    except:\n",
      "        pass\n",
      "    \n",
      "    \"\"\"\n",
      "    Next, we need to create a unique timestamp for the model.\n",
      "    We'll do that using a timestamp of the form: YYYYMMDD-Run#\n",
      "    \n",
      "    We then need to create that directory too.\n",
      "    \"\"\"\n",
      "    timestamp_suffix = time.strftime(\"%Y%m%d\")\n",
      "    \n",
      "    run_id = 0\n",
      "    run_output_path = os.path.join(output_path,\n",
      "                                 \"run-{0}-{1}\".format(timestamp_suffix,\n",
      "                                                     run_id))\n",
      "    # Get a unique run #\n",
      "    while os.path.exists(run_output_path):\n",
      "        run_id += 1\n",
      "        run_output_path = os.path.join(output_path,\n",
      "                                 \"run-{0}-{1}\".format(timestamp_suffix,\n",
      "                                                     run_id))        \n",
      "\n",
      "    try:\n",
      "        os.makedirs(run_output_path)\n",
      "    except:\n",
      "        pass\n",
      "    \n",
      "    \"\"\"\n",
      "    Finally, we need to store data and figures to the path.\n",
      "    \"\"\"\n",
      "    store_model_parameters(model, run_output_path)\n",
      "    store_model_csv(model, run_output_path)"
     ],
     "language": "python",
     "metadata": {},
     "outputs": []
    },
    {
     "cell_type": "code",
     "collapsed": false,
     "input": [
      "#pandas practice\n",
      "import pandas as pd\n",
      "import numpy as np\n",
      "\n",
      "s = pd.Series([1,3,5,np.nan,6,8])\n",
      "s"
     ],
     "language": "python",
     "metadata": {},
     "outputs": [
      {
       "metadata": {},
       "output_type": "pyout",
       "prompt_number": 3,
       "text": [
        "0     1\n",
        "1     3\n",
        "2     5\n",
        "3   NaN\n",
        "4     6\n",
        "5     8\n",
        "dtype: float64"
       ]
      }
     ],
     "prompt_number": 3
    },
    {
     "cell_type": "code",
     "collapsed": false,
     "input": [
      "dates = pd.date_range('20130101',periods=6)\n",
      "dates"
     ],
     "language": "python",
     "metadata": {},
     "outputs": [
      {
       "metadata": {},
       "output_type": "pyout",
       "prompt_number": 4,
       "text": [
        "<class 'pandas.tseries.index.DatetimeIndex'>\n",
        "[2013-01-01, ..., 2013-01-06]\n",
        "Length: 6, Freq: D, Timezone: None"
       ]
      }
     ],
     "prompt_number": 4
    },
    {
     "cell_type": "code",
     "collapsed": false,
     "input": [
      "#put data into datafram\n",
      "df = pd.DataFrame(np.random.randn(6,4),index=dates,columns=list('ABCD'))\n",
      "df"
     ],
     "language": "python",
     "metadata": {},
     "outputs": [
      {
       "html": [
        "<div style=\"max-height:1000px;max-width:1500px;overflow:auto;\">\n",
        "<table border=\"1\" class=\"dataframe\">\n",
        "  <thead>\n",
        "    <tr style=\"text-align: right;\">\n",
        "      <th></th>\n",
        "      <th>A</th>\n",
        "      <th>B</th>\n",
        "      <th>C</th>\n",
        "      <th>D</th>\n",
        "    </tr>\n",
        "  </thead>\n",
        "  <tbody>\n",
        "    <tr>\n",
        "      <th>2013-01-01</th>\n",
        "      <td>-0.481000</td>\n",
        "      <td>-0.744389</td>\n",
        "      <td>-0.241080</td>\n",
        "      <td> 0.830042</td>\n",
        "    </tr>\n",
        "    <tr>\n",
        "      <th>2013-01-02</th>\n",
        "      <td> 1.185822</td>\n",
        "      <td> 2.276919</td>\n",
        "      <td>-0.659829</td>\n",
        "      <td> 0.341454</td>\n",
        "    </tr>\n",
        "    <tr>\n",
        "      <th>2013-01-03</th>\n",
        "      <td>-0.502352</td>\n",
        "      <td>-1.612368</td>\n",
        "      <td> 0.126028</td>\n",
        "      <td> 0.191446</td>\n",
        "    </tr>\n",
        "    <tr>\n",
        "      <th>2013-01-04</th>\n",
        "      <td> 0.182792</td>\n",
        "      <td>-1.423139</td>\n",
        "      <td> 0.364072</td>\n",
        "      <td>-1.689531</td>\n",
        "    </tr>\n",
        "    <tr>\n",
        "      <th>2013-01-05</th>\n",
        "      <td> 0.189151</td>\n",
        "      <td> 0.008360</td>\n",
        "      <td>-0.915714</td>\n",
        "      <td> 0.358559</td>\n",
        "    </tr>\n",
        "    <tr>\n",
        "      <th>2013-01-06</th>\n",
        "      <td>-1.303368</td>\n",
        "      <td>-0.637032</td>\n",
        "      <td>-0.445915</td>\n",
        "      <td>-1.742265</td>\n",
        "    </tr>\n",
        "  </tbody>\n",
        "</table>\n",
        "</div>"
       ],
       "metadata": {},
       "output_type": "pyout",
       "prompt_number": 5,
       "text": [
        "                   A         B         C         D\n",
        "2013-01-01 -0.481000 -0.744389 -0.241080  0.830042\n",
        "2013-01-02  1.185822  2.276919 -0.659829  0.341454\n",
        "2013-01-03 -0.502352 -1.612368  0.126028  0.191446\n",
        "2013-01-04  0.182792 -1.423139  0.364072 -1.689531\n",
        "2013-01-05  0.189151  0.008360 -0.915714  0.358559\n",
        "2013-01-06 -1.303368 -0.637032 -0.445915 -1.742265"
       ]
      }
     ],
     "prompt_number": 5
    },
    {
     "cell_type": "code",
     "collapsed": false,
     "input": [
      "#put dictionary into data frame\n",
      "df2 = pd.DataFrame({ 'A' : 1.,\n",
      "                     'B' : pd.Timestamp('20130102'),\n",
      "                     'C' : pd.Series(1,index=list(range(4)),dtype='float32'),\n",
      "                     'D' : np.array([3] * 4,dtype='int32'),\n",
      "                     'E' : pd.Categorical([\"test\",\"train\",\"test\",\"train\"]),\n",
      "                     'F' : 'foo' })\n",
      "df2"
     ],
     "language": "python",
     "metadata": {},
     "outputs": [
      {
       "html": [
        "<div style=\"max-height:1000px;max-width:1500px;overflow:auto;\">\n",
        "<table border=\"1\" class=\"dataframe\">\n",
        "  <thead>\n",
        "    <tr style=\"text-align: right;\">\n",
        "      <th></th>\n",
        "      <th>A</th>\n",
        "      <th>B</th>\n",
        "      <th>C</th>\n",
        "      <th>D</th>\n",
        "      <th>E</th>\n",
        "      <th>F</th>\n",
        "    </tr>\n",
        "  </thead>\n",
        "  <tbody>\n",
        "    <tr>\n",
        "      <th>0</th>\n",
        "      <td> 1</td>\n",
        "      <td>2013-01-02</td>\n",
        "      <td> 1</td>\n",
        "      <td> 3</td>\n",
        "      <td>  test</td>\n",
        "      <td> foo</td>\n",
        "    </tr>\n",
        "    <tr>\n",
        "      <th>1</th>\n",
        "      <td> 1</td>\n",
        "      <td>2013-01-02</td>\n",
        "      <td> 1</td>\n",
        "      <td> 3</td>\n",
        "      <td> train</td>\n",
        "      <td> foo</td>\n",
        "    </tr>\n",
        "    <tr>\n",
        "      <th>2</th>\n",
        "      <td> 1</td>\n",
        "      <td>2013-01-02</td>\n",
        "      <td> 1</td>\n",
        "      <td> 3</td>\n",
        "      <td>  test</td>\n",
        "      <td> foo</td>\n",
        "    </tr>\n",
        "    <tr>\n",
        "      <th>3</th>\n",
        "      <td> 1</td>\n",
        "      <td>2013-01-02</td>\n",
        "      <td> 1</td>\n",
        "      <td> 3</td>\n",
        "      <td> train</td>\n",
        "      <td> foo</td>\n",
        "    </tr>\n",
        "  </tbody>\n",
        "</table>\n",
        "</div>"
       ],
       "metadata": {},
       "output_type": "pyout",
       "prompt_number": 6,
       "text": [
        "   A          B  C  D      E    F\n",
        "0  1 2013-01-02  1  3   test  foo\n",
        "1  1 2013-01-02  1  3  train  foo\n",
        "2  1 2013-01-02  1  3   test  foo\n",
        "3  1 2013-01-02  1  3  train  foo"
       ]
      }
     ],
     "prompt_number": 6
    },
    {
     "cell_type": "code",
     "collapsed": false,
     "input": [
      "#get the data type of each column\n",
      "df2.dtypes"
     ],
     "language": "python",
     "metadata": {},
     "outputs": [
      {
       "metadata": {},
       "output_type": "pyout",
       "prompt_number": 7,
       "text": [
        "A           float64\n",
        "B    datetime64[ns]\n",
        "C           float32\n",
        "D             int32\n",
        "E            object\n",
        "F            object\n",
        "dtype: object"
       ]
      }
     ],
     "prompt_number": 7
    },
    {
     "cell_type": "code",
     "collapsed": false,
     "input": [
      "#get the head of a table\n",
      "df.head()"
     ],
     "language": "python",
     "metadata": {},
     "outputs": [
      {
       "html": [
        "<div style=\"max-height:1000px;max-width:1500px;overflow:auto;\">\n",
        "<table border=\"1\" class=\"dataframe\">\n",
        "  <thead>\n",
        "    <tr style=\"text-align: right;\">\n",
        "      <th></th>\n",
        "      <th>A</th>\n",
        "      <th>B</th>\n",
        "      <th>C</th>\n",
        "      <th>D</th>\n",
        "    </tr>\n",
        "  </thead>\n",
        "  <tbody>\n",
        "    <tr>\n",
        "      <th>2013-01-01</th>\n",
        "      <td>-0.481000</td>\n",
        "      <td>-0.744389</td>\n",
        "      <td>-0.241080</td>\n",
        "      <td> 0.830042</td>\n",
        "    </tr>\n",
        "    <tr>\n",
        "      <th>2013-01-02</th>\n",
        "      <td> 1.185822</td>\n",
        "      <td> 2.276919</td>\n",
        "      <td>-0.659829</td>\n",
        "      <td> 0.341454</td>\n",
        "    </tr>\n",
        "    <tr>\n",
        "      <th>2013-01-03</th>\n",
        "      <td>-0.502352</td>\n",
        "      <td>-1.612368</td>\n",
        "      <td> 0.126028</td>\n",
        "      <td> 0.191446</td>\n",
        "    </tr>\n",
        "    <tr>\n",
        "      <th>2013-01-04</th>\n",
        "      <td> 0.182792</td>\n",
        "      <td>-1.423139</td>\n",
        "      <td> 0.364072</td>\n",
        "      <td>-1.689531</td>\n",
        "    </tr>\n",
        "    <tr>\n",
        "      <th>2013-01-05</th>\n",
        "      <td> 0.189151</td>\n",
        "      <td> 0.008360</td>\n",
        "      <td>-0.915714</td>\n",
        "      <td> 0.358559</td>\n",
        "    </tr>\n",
        "  </tbody>\n",
        "</table>\n",
        "</div>"
       ],
       "metadata": {},
       "output_type": "pyout",
       "prompt_number": 9,
       "text": [
        "                   A         B         C         D\n",
        "2013-01-01 -0.481000 -0.744389 -0.241080  0.830042\n",
        "2013-01-02  1.185822  2.276919 -0.659829  0.341454\n",
        "2013-01-03 -0.502352 -1.612368  0.126028  0.191446\n",
        "2013-01-04  0.182792 -1.423139  0.364072 -1.689531\n",
        "2013-01-05  0.189151  0.008360 -0.915714  0.358559"
       ]
      }
     ],
     "prompt_number": 9
    },
    {
     "cell_type": "code",
     "collapsed": false,
     "input": [
      "#get the last three rows of a table\n",
      "df.tail(3)"
     ],
     "language": "python",
     "metadata": {},
     "outputs": [
      {
       "html": [
        "<div style=\"max-height:1000px;max-width:1500px;overflow:auto;\">\n",
        "<table border=\"1\" class=\"dataframe\">\n",
        "  <thead>\n",
        "    <tr style=\"text-align: right;\">\n",
        "      <th></th>\n",
        "      <th>A</th>\n",
        "      <th>B</th>\n",
        "      <th>C</th>\n",
        "      <th>D</th>\n",
        "    </tr>\n",
        "  </thead>\n",
        "  <tbody>\n",
        "    <tr>\n",
        "      <th>2013-01-04</th>\n",
        "      <td> 0.182792</td>\n",
        "      <td>-1.423139</td>\n",
        "      <td> 0.364072</td>\n",
        "      <td>-1.689531</td>\n",
        "    </tr>\n",
        "    <tr>\n",
        "      <th>2013-01-05</th>\n",
        "      <td> 0.189151</td>\n",
        "      <td> 0.008360</td>\n",
        "      <td>-0.915714</td>\n",
        "      <td> 0.358559</td>\n",
        "    </tr>\n",
        "    <tr>\n",
        "      <th>2013-01-06</th>\n",
        "      <td>-1.303368</td>\n",
        "      <td>-0.637032</td>\n",
        "      <td>-0.445915</td>\n",
        "      <td>-1.742265</td>\n",
        "    </tr>\n",
        "  </tbody>\n",
        "</table>\n",
        "</div>"
       ],
       "metadata": {},
       "output_type": "pyout",
       "prompt_number": 10,
       "text": [
        "                   A         B         C         D\n",
        "2013-01-04  0.182792 -1.423139  0.364072 -1.689531\n",
        "2013-01-05  0.189151  0.008360 -0.915714  0.358559\n",
        "2013-01-06 -1.303368 -0.637032 -0.445915 -1.742265"
       ]
      }
     ],
     "prompt_number": 10
    },
    {
     "cell_type": "code",
     "collapsed": false,
     "input": [
      "#get all the index\n",
      "df.index"
     ],
     "language": "python",
     "metadata": {},
     "outputs": [
      {
       "metadata": {},
       "output_type": "pyout",
       "prompt_number": 11,
       "text": [
        "<class 'pandas.tseries.index.DatetimeIndex'>\n",
        "[2013-01-01, ..., 2013-01-06]\n",
        "Length: 6, Freq: D, Timezone: None"
       ]
      }
     ],
     "prompt_number": 11
    },
    {
     "cell_type": "code",
     "collapsed": false,
     "input": [
      "#get all the column names\n",
      "df.columns"
     ],
     "language": "python",
     "metadata": {},
     "outputs": [
      {
       "metadata": {},
       "output_type": "pyout",
       "prompt_number": 12,
       "text": [
        "Index([u'A', u'B', u'C', u'D'], dtype='object')"
       ]
      }
     ],
     "prompt_number": 12
    },
    {
     "cell_type": "code",
     "collapsed": false,
     "input": [
      "#get all the values stored in the data frame\n",
      "df.values"
     ],
     "language": "python",
     "metadata": {},
     "outputs": [
      {
       "metadata": {},
       "output_type": "pyout",
       "prompt_number": 13,
       "text": [
        "array([[-0.48099995, -0.7443895 , -0.24107953,  0.83004216],\n",
        "       [ 1.18582245,  2.27691924, -0.65982948,  0.34145422],\n",
        "       [-0.50235194, -1.61236807,  0.12602793,  0.1914455 ],\n",
        "       [ 0.18279229, -1.42313884,  0.36407227, -1.68953115],\n",
        "       [ 0.18915119,  0.00836048, -0.9157138 ,  0.35855868],\n",
        "       [-1.30336804, -0.63703157, -0.44591507, -1.74226517]])"
       ]
      }
     ],
     "prompt_number": 13
    },
    {
     "cell_type": "code",
     "collapsed": false,
     "input": [
      "#data summary\n",
      "df.describe()"
     ],
     "language": "python",
     "metadata": {},
     "outputs": [
      {
       "html": [
        "<div style=\"max-height:1000px;max-width:1500px;overflow:auto;\">\n",
        "<table border=\"1\" class=\"dataframe\">\n",
        "  <thead>\n",
        "    <tr style=\"text-align: right;\">\n",
        "      <th></th>\n",
        "      <th>A</th>\n",
        "      <th>B</th>\n",
        "      <th>C</th>\n",
        "      <th>D</th>\n",
        "    </tr>\n",
        "  </thead>\n",
        "  <tbody>\n",
        "    <tr>\n",
        "      <th>count</th>\n",
        "      <td> 6.000000</td>\n",
        "      <td> 6.000000</td>\n",
        "      <td> 6.000000</td>\n",
        "      <td> 6.000000</td>\n",
        "    </tr>\n",
        "    <tr>\n",
        "      <th>mean</th>\n",
        "      <td>-0.121492</td>\n",
        "      <td>-0.355275</td>\n",
        "      <td>-0.295406</td>\n",
        "      <td>-0.285049</td>\n",
        "    </tr>\n",
        "    <tr>\n",
        "      <th>std</th>\n",
        "      <td> 0.844901</td>\n",
        "      <td> 1.415068</td>\n",
        "      <td> 0.480772</td>\n",
        "      <td> 1.129005</td>\n",
        "    </tr>\n",
        "    <tr>\n",
        "      <th>min</th>\n",
        "      <td>-1.303368</td>\n",
        "      <td>-1.612368</td>\n",
        "      <td>-0.915714</td>\n",
        "      <td>-1.742265</td>\n",
        "    </tr>\n",
        "    <tr>\n",
        "      <th>25%</th>\n",
        "      <td>-0.497014</td>\n",
        "      <td>-1.253452</td>\n",
        "      <td>-0.606351</td>\n",
        "      <td>-1.219287</td>\n",
        "    </tr>\n",
        "    <tr>\n",
        "      <th>50%</th>\n",
        "      <td>-0.149104</td>\n",
        "      <td>-0.690711</td>\n",
        "      <td>-0.343497</td>\n",
        "      <td> 0.266450</td>\n",
        "    </tr>\n",
        "    <tr>\n",
        "      <th>75%</th>\n",
        "      <td> 0.187561</td>\n",
        "      <td>-0.152988</td>\n",
        "      <td> 0.034251</td>\n",
        "      <td> 0.354283</td>\n",
        "    </tr>\n",
        "    <tr>\n",
        "      <th>max</th>\n",
        "      <td> 1.185822</td>\n",
        "      <td> 2.276919</td>\n",
        "      <td> 0.364072</td>\n",
        "      <td> 0.830042</td>\n",
        "    </tr>\n",
        "  </tbody>\n",
        "</table>\n",
        "</div>"
       ],
       "metadata": {},
       "output_type": "pyout",
       "prompt_number": 14,
       "text": [
        "              A         B         C         D\n",
        "count  6.000000  6.000000  6.000000  6.000000\n",
        "mean  -0.121492 -0.355275 -0.295406 -0.285049\n",
        "std    0.844901  1.415068  0.480772  1.129005\n",
        "min   -1.303368 -1.612368 -0.915714 -1.742265\n",
        "25%   -0.497014 -1.253452 -0.606351 -1.219287\n",
        "50%   -0.149104 -0.690711 -0.343497  0.266450\n",
        "75%    0.187561 -0.152988  0.034251  0.354283\n",
        "max    1.185822  2.276919  0.364072  0.830042"
       ]
      }
     ],
     "prompt_number": 14
    },
    {
     "cell_type": "code",
     "collapsed": false,
     "input": [
      "#transpose\n",
      "df.T"
     ],
     "language": "python",
     "metadata": {},
     "outputs": [
      {
       "html": [
        "<div style=\"max-height:1000px;max-width:1500px;overflow:auto;\">\n",
        "<table border=\"1\" class=\"dataframe\">\n",
        "  <thead>\n",
        "    <tr style=\"text-align: right;\">\n",
        "      <th></th>\n",
        "      <th>2013-01-01 00:00:00</th>\n",
        "      <th>2013-01-02 00:00:00</th>\n",
        "      <th>2013-01-03 00:00:00</th>\n",
        "      <th>2013-01-04 00:00:00</th>\n",
        "      <th>2013-01-05 00:00:00</th>\n",
        "      <th>2013-01-06 00:00:00</th>\n",
        "    </tr>\n",
        "  </thead>\n",
        "  <tbody>\n",
        "    <tr>\n",
        "      <th>A</th>\n",
        "      <td>-0.481000</td>\n",
        "      <td> 1.185822</td>\n",
        "      <td>-0.502352</td>\n",
        "      <td> 0.182792</td>\n",
        "      <td> 0.189151</td>\n",
        "      <td>-1.303368</td>\n",
        "    </tr>\n",
        "    <tr>\n",
        "      <th>B</th>\n",
        "      <td>-0.744389</td>\n",
        "      <td> 2.276919</td>\n",
        "      <td>-1.612368</td>\n",
        "      <td>-1.423139</td>\n",
        "      <td> 0.008360</td>\n",
        "      <td>-0.637032</td>\n",
        "    </tr>\n",
        "    <tr>\n",
        "      <th>C</th>\n",
        "      <td>-0.241080</td>\n",
        "      <td>-0.659829</td>\n",
        "      <td> 0.126028</td>\n",
        "      <td> 0.364072</td>\n",
        "      <td>-0.915714</td>\n",
        "      <td>-0.445915</td>\n",
        "    </tr>\n",
        "    <tr>\n",
        "      <th>D</th>\n",
        "      <td> 0.830042</td>\n",
        "      <td> 0.341454</td>\n",
        "      <td> 0.191446</td>\n",
        "      <td>-1.689531</td>\n",
        "      <td> 0.358559</td>\n",
        "      <td>-1.742265</td>\n",
        "    </tr>\n",
        "  </tbody>\n",
        "</table>\n",
        "</div>"
       ],
       "metadata": {},
       "output_type": "pyout",
       "prompt_number": 15,
       "text": [
        "   2013-01-01  2013-01-02  2013-01-03  2013-01-04  2013-01-05  2013-01-06\n",
        "A   -0.481000    1.185822   -0.502352    0.182792    0.189151   -1.303368\n",
        "B   -0.744389    2.276919   -1.612368   -1.423139    0.008360   -0.637032\n",
        "C   -0.241080   -0.659829    0.126028    0.364072   -0.915714   -0.445915\n",
        "D    0.830042    0.341454    0.191446   -1.689531    0.358559   -1.742265"
       ]
      }
     ],
     "prompt_number": 15
    },
    {
     "cell_type": "code",
     "collapsed": false,
     "input": [
      "#sorting by axis\n",
      "df.sort_index(axis=1, ascending=False)"
     ],
     "language": "python",
     "metadata": {},
     "outputs": [
      {
       "html": [
        "<div style=\"max-height:1000px;max-width:1500px;overflow:auto;\">\n",
        "<table border=\"1\" class=\"dataframe\">\n",
        "  <thead>\n",
        "    <tr style=\"text-align: right;\">\n",
        "      <th></th>\n",
        "      <th>D</th>\n",
        "      <th>C</th>\n",
        "      <th>B</th>\n",
        "      <th>A</th>\n",
        "    </tr>\n",
        "  </thead>\n",
        "  <tbody>\n",
        "    <tr>\n",
        "      <th>2013-01-01</th>\n",
        "      <td> 0.830042</td>\n",
        "      <td>-0.241080</td>\n",
        "      <td>-0.744389</td>\n",
        "      <td>-0.481000</td>\n",
        "    </tr>\n",
        "    <tr>\n",
        "      <th>2013-01-02</th>\n",
        "      <td> 0.341454</td>\n",
        "      <td>-0.659829</td>\n",
        "      <td> 2.276919</td>\n",
        "      <td> 1.185822</td>\n",
        "    </tr>\n",
        "    <tr>\n",
        "      <th>2013-01-03</th>\n",
        "      <td> 0.191446</td>\n",
        "      <td> 0.126028</td>\n",
        "      <td>-1.612368</td>\n",
        "      <td>-0.502352</td>\n",
        "    </tr>\n",
        "    <tr>\n",
        "      <th>2013-01-04</th>\n",
        "      <td>-1.689531</td>\n",
        "      <td> 0.364072</td>\n",
        "      <td>-1.423139</td>\n",
        "      <td> 0.182792</td>\n",
        "    </tr>\n",
        "    <tr>\n",
        "      <th>2013-01-05</th>\n",
        "      <td> 0.358559</td>\n",
        "      <td>-0.915714</td>\n",
        "      <td> 0.008360</td>\n",
        "      <td> 0.189151</td>\n",
        "    </tr>\n",
        "    <tr>\n",
        "      <th>2013-01-06</th>\n",
        "      <td>-1.742265</td>\n",
        "      <td>-0.445915</td>\n",
        "      <td>-0.637032</td>\n",
        "      <td>-1.303368</td>\n",
        "    </tr>\n",
        "  </tbody>\n",
        "</table>\n",
        "</div>"
       ],
       "metadata": {},
       "output_type": "pyout",
       "prompt_number": 18,
       "text": [
        "                   D         C         B         A\n",
        "2013-01-01  0.830042 -0.241080 -0.744389 -0.481000\n",
        "2013-01-02  0.341454 -0.659829  2.276919  1.185822\n",
        "2013-01-03  0.191446  0.126028 -1.612368 -0.502352\n",
        "2013-01-04 -1.689531  0.364072 -1.423139  0.182792\n",
        "2013-01-05  0.358559 -0.915714  0.008360  0.189151\n",
        "2013-01-06 -1.742265 -0.445915 -0.637032 -1.303368"
       ]
      }
     ],
     "prompt_number": 18
    },
    {
     "cell_type": "code",
     "collapsed": false,
     "input": [
      "#get the rows whose E column has the value test\n",
      "df2.loc[df2.loc[:,\"E\"]==\"test\",:]"
     ],
     "language": "python",
     "metadata": {},
     "outputs": [
      {
       "html": [
        "<div style=\"max-height:1000px;max-width:1500px;overflow:auto;\">\n",
        "<table border=\"1\" class=\"dataframe\">\n",
        "  <thead>\n",
        "    <tr style=\"text-align: right;\">\n",
        "      <th></th>\n",
        "      <th>A</th>\n",
        "      <th>B</th>\n",
        "      <th>C</th>\n",
        "      <th>D</th>\n",
        "      <th>E</th>\n",
        "      <th>F</th>\n",
        "    </tr>\n",
        "  </thead>\n",
        "  <tbody>\n",
        "    <tr>\n",
        "      <th>0</th>\n",
        "      <td> 1</td>\n",
        "      <td>2013-01-02</td>\n",
        "      <td> 1</td>\n",
        "      <td> 3</td>\n",
        "      <td> test</td>\n",
        "      <td> foo</td>\n",
        "    </tr>\n",
        "    <tr>\n",
        "      <th>2</th>\n",
        "      <td> 1</td>\n",
        "      <td>2013-01-02</td>\n",
        "      <td> 1</td>\n",
        "      <td> 3</td>\n",
        "      <td> test</td>\n",
        "      <td> foo</td>\n",
        "    </tr>\n",
        "  </tbody>\n",
        "</table>\n",
        "</div>"
       ],
       "metadata": {},
       "output_type": "pyout",
       "prompt_number": 17,
       "text": [
        "   A          B  C  D     E    F\n",
        "0  1 2013-01-02  1  3  test  foo\n",
        "2  1 2013-01-02  1  3  test  foo"
       ]
      }
     ],
     "prompt_number": 17
    },
    {
     "cell_type": "code",
     "collapsed": false,
     "input": [
      "#sort by value\n",
      "df.sort(columns='B')"
     ],
     "language": "python",
     "metadata": {},
     "outputs": [
      {
       "html": [
        "<div style=\"max-height:1000px;max-width:1500px;overflow:auto;\">\n",
        "<table border=\"1\" class=\"dataframe\">\n",
        "  <thead>\n",
        "    <tr style=\"text-align: right;\">\n",
        "      <th></th>\n",
        "      <th>A</th>\n",
        "      <th>B</th>\n",
        "      <th>C</th>\n",
        "      <th>D</th>\n",
        "    </tr>\n",
        "  </thead>\n",
        "  <tbody>\n",
        "    <tr>\n",
        "      <th>2013-01-03</th>\n",
        "      <td>-0.502352</td>\n",
        "      <td>-1.612368</td>\n",
        "      <td> 0.126028</td>\n",
        "      <td> 0.191446</td>\n",
        "    </tr>\n",
        "    <tr>\n",
        "      <th>2013-01-04</th>\n",
        "      <td> 0.182792</td>\n",
        "      <td>-1.423139</td>\n",
        "      <td> 0.364072</td>\n",
        "      <td>-1.689531</td>\n",
        "    </tr>\n",
        "    <tr>\n",
        "      <th>2013-01-01</th>\n",
        "      <td>-0.481000</td>\n",
        "      <td>-0.744389</td>\n",
        "      <td>-0.241080</td>\n",
        "      <td> 0.830042</td>\n",
        "    </tr>\n",
        "    <tr>\n",
        "      <th>2013-01-06</th>\n",
        "      <td>-1.303368</td>\n",
        "      <td>-0.637032</td>\n",
        "      <td>-0.445915</td>\n",
        "      <td>-1.742265</td>\n",
        "    </tr>\n",
        "    <tr>\n",
        "      <th>2013-01-05</th>\n",
        "      <td> 0.189151</td>\n",
        "      <td> 0.008360</td>\n",
        "      <td>-0.915714</td>\n",
        "      <td> 0.358559</td>\n",
        "    </tr>\n",
        "    <tr>\n",
        "      <th>2013-01-02</th>\n",
        "      <td> 1.185822</td>\n",
        "      <td> 2.276919</td>\n",
        "      <td>-0.659829</td>\n",
        "      <td> 0.341454</td>\n",
        "    </tr>\n",
        "  </tbody>\n",
        "</table>\n",
        "</div>"
       ],
       "metadata": {},
       "output_type": "pyout",
       "prompt_number": 19,
       "text": [
        "                   A         B         C         D\n",
        "2013-01-03 -0.502352 -1.612368  0.126028  0.191446\n",
        "2013-01-04  0.182792 -1.423139  0.364072 -1.689531\n",
        "2013-01-01 -0.481000 -0.744389 -0.241080  0.830042\n",
        "2013-01-06 -1.303368 -0.637032 -0.445915 -1.742265\n",
        "2013-01-05  0.189151  0.008360 -0.915714  0.358559\n",
        "2013-01-02  1.185822  2.276919 -0.659829  0.341454"
       ]
      }
     ],
     "prompt_number": 19
    },
    {
     "cell_type": "code",
     "collapsed": false,
     "input": [
      "#choose a column\n",
      "df['A']"
     ],
     "language": "python",
     "metadata": {},
     "outputs": [
      {
       "metadata": {},
       "output_type": "pyout",
       "prompt_number": 20,
       "text": [
        "2013-01-01   -0.481000\n",
        "2013-01-02    1.185822\n",
        "2013-01-03   -0.502352\n",
        "2013-01-04    0.182792\n",
        "2013-01-05    0.189151\n",
        "2013-01-06   -1.303368\n",
        "Freq: D, Name: A, dtype: float64"
       ]
      }
     ],
     "prompt_number": 20
    },
    {
     "cell_type": "code",
     "collapsed": false,
     "input": [
      "#choose rows\n",
      "df[0:3]"
     ],
     "language": "python",
     "metadata": {},
     "outputs": [
      {
       "html": [
        "<div style=\"max-height:1000px;max-width:1500px;overflow:auto;\">\n",
        "<table border=\"1\" class=\"dataframe\">\n",
        "  <thead>\n",
        "    <tr style=\"text-align: right;\">\n",
        "      <th></th>\n",
        "      <th>A</th>\n",
        "      <th>B</th>\n",
        "      <th>C</th>\n",
        "      <th>D</th>\n",
        "    </tr>\n",
        "  </thead>\n",
        "  <tbody>\n",
        "    <tr>\n",
        "      <th>2013-01-01</th>\n",
        "      <td>-0.481000</td>\n",
        "      <td>-0.744389</td>\n",
        "      <td>-0.241080</td>\n",
        "      <td> 0.830042</td>\n",
        "    </tr>\n",
        "    <tr>\n",
        "      <th>2013-01-02</th>\n",
        "      <td> 1.185822</td>\n",
        "      <td> 2.276919</td>\n",
        "      <td>-0.659829</td>\n",
        "      <td> 0.341454</td>\n",
        "    </tr>\n",
        "    <tr>\n",
        "      <th>2013-01-03</th>\n",
        "      <td>-0.502352</td>\n",
        "      <td>-1.612368</td>\n",
        "      <td> 0.126028</td>\n",
        "      <td> 0.191446</td>\n",
        "    </tr>\n",
        "  </tbody>\n",
        "</table>\n",
        "</div>"
       ],
       "metadata": {},
       "output_type": "pyout",
       "prompt_number": 21,
       "text": [
        "                   A         B         C         D\n",
        "2013-01-01 -0.481000 -0.744389 -0.241080  0.830042\n",
        "2013-01-02  1.185822  2.276919 -0.659829  0.341454\n",
        "2013-01-03 -0.502352 -1.612368  0.126028  0.191446"
       ]
      }
     ],
     "prompt_number": 21
    },
    {
     "cell_type": "code",
     "collapsed": false,
     "input": [
      "df['20130102':'20130104']"
     ],
     "language": "python",
     "metadata": {},
     "outputs": [
      {
       "html": [
        "<div style=\"max-height:1000px;max-width:1500px;overflow:auto;\">\n",
        "<table border=\"1\" class=\"dataframe\">\n",
        "  <thead>\n",
        "    <tr style=\"text-align: right;\">\n",
        "      <th></th>\n",
        "      <th>A</th>\n",
        "      <th>B</th>\n",
        "      <th>C</th>\n",
        "      <th>D</th>\n",
        "    </tr>\n",
        "  </thead>\n",
        "  <tbody>\n",
        "    <tr>\n",
        "      <th>2013-01-02</th>\n",
        "      <td> 1.185822</td>\n",
        "      <td> 2.276919</td>\n",
        "      <td>-0.659829</td>\n",
        "      <td> 0.341454</td>\n",
        "    </tr>\n",
        "    <tr>\n",
        "      <th>2013-01-03</th>\n",
        "      <td>-0.502352</td>\n",
        "      <td>-1.612368</td>\n",
        "      <td> 0.126028</td>\n",
        "      <td> 0.191446</td>\n",
        "    </tr>\n",
        "    <tr>\n",
        "      <th>2013-01-04</th>\n",
        "      <td> 0.182792</td>\n",
        "      <td>-1.423139</td>\n",
        "      <td> 0.364072</td>\n",
        "      <td>-1.689531</td>\n",
        "    </tr>\n",
        "  </tbody>\n",
        "</table>\n",
        "</div>"
       ],
       "metadata": {},
       "output_type": "pyout",
       "prompt_number": 22,
       "text": [
        "                   A         B         C         D\n",
        "2013-01-02  1.185822  2.276919 -0.659829  0.341454\n",
        "2013-01-03 -0.502352 -1.612368  0.126028  0.191446\n",
        "2013-01-04  0.182792 -1.423139  0.364072 -1.689531"
       ]
      }
     ],
     "prompt_number": 22
    },
    {
     "cell_type": "code",
     "collapsed": false,
     "input": [
      "#getting a cross section using label\n",
      "df.loc[dates[0]]"
     ],
     "language": "python",
     "metadata": {},
     "outputs": [
      {
       "metadata": {},
       "output_type": "pyout",
       "prompt_number": 23,
       "text": [
        "A   -0.481000\n",
        "B   -0.744389\n",
        "C   -0.241080\n",
        "D    0.830042\n",
        "Name: 2013-01-01 00:00:00, dtype: float64"
       ]
      }
     ],
     "prompt_number": 23
    },
    {
     "cell_type": "code",
     "collapsed": false,
     "input": [
      "#Selecting on a multi-axis by label\n",
      "df.loc[:,['A','B']]"
     ],
     "language": "python",
     "metadata": {},
     "outputs": [
      {
       "html": [
        "<div style=\"max-height:1000px;max-width:1500px;overflow:auto;\">\n",
        "<table border=\"1\" class=\"dataframe\">\n",
        "  <thead>\n",
        "    <tr style=\"text-align: right;\">\n",
        "      <th></th>\n",
        "      <th>A</th>\n",
        "      <th>B</th>\n",
        "    </tr>\n",
        "  </thead>\n",
        "  <tbody>\n",
        "    <tr>\n",
        "      <th>2013-01-01</th>\n",
        "      <td>-0.481000</td>\n",
        "      <td>-0.744389</td>\n",
        "    </tr>\n",
        "    <tr>\n",
        "      <th>2013-01-02</th>\n",
        "      <td> 1.185822</td>\n",
        "      <td> 2.276919</td>\n",
        "    </tr>\n",
        "    <tr>\n",
        "      <th>2013-01-03</th>\n",
        "      <td>-0.502352</td>\n",
        "      <td>-1.612368</td>\n",
        "    </tr>\n",
        "    <tr>\n",
        "      <th>2013-01-04</th>\n",
        "      <td> 0.182792</td>\n",
        "      <td>-1.423139</td>\n",
        "    </tr>\n",
        "    <tr>\n",
        "      <th>2013-01-05</th>\n",
        "      <td> 0.189151</td>\n",
        "      <td> 0.008360</td>\n",
        "    </tr>\n",
        "    <tr>\n",
        "      <th>2013-01-06</th>\n",
        "      <td>-1.303368</td>\n",
        "      <td>-0.637032</td>\n",
        "    </tr>\n",
        "  </tbody>\n",
        "</table>\n",
        "</div>"
       ],
       "metadata": {},
       "output_type": "pyout",
       "prompt_number": 24,
       "text": [
        "                   A         B\n",
        "2013-01-01 -0.481000 -0.744389\n",
        "2013-01-02  1.185822  2.276919\n",
        "2013-01-03 -0.502352 -1.612368\n",
        "2013-01-04  0.182792 -1.423139\n",
        "2013-01-05  0.189151  0.008360\n",
        "2013-01-06 -1.303368 -0.637032"
       ]
      }
     ],
     "prompt_number": 24
    },
    {
     "cell_type": "code",
     "collapsed": false,
     "input": [
      "df.loc['20130102':'20130104',['A','B']]"
     ],
     "language": "python",
     "metadata": {},
     "outputs": [
      {
       "html": [
        "<div style=\"max-height:1000px;max-width:1500px;overflow:auto;\">\n",
        "<table border=\"1\" class=\"dataframe\">\n",
        "  <thead>\n",
        "    <tr style=\"text-align: right;\">\n",
        "      <th></th>\n",
        "      <th>A</th>\n",
        "      <th>B</th>\n",
        "    </tr>\n",
        "  </thead>\n",
        "  <tbody>\n",
        "    <tr>\n",
        "      <th>2013-01-02</th>\n",
        "      <td> 1.185822</td>\n",
        "      <td> 2.276919</td>\n",
        "    </tr>\n",
        "    <tr>\n",
        "      <th>2013-01-03</th>\n",
        "      <td>-0.502352</td>\n",
        "      <td>-1.612368</td>\n",
        "    </tr>\n",
        "    <tr>\n",
        "      <th>2013-01-04</th>\n",
        "      <td> 0.182792</td>\n",
        "      <td>-1.423139</td>\n",
        "    </tr>\n",
        "  </tbody>\n",
        "</table>\n",
        "</div>"
       ],
       "metadata": {},
       "output_type": "pyout",
       "prompt_number": 25,
       "text": [
        "                   A         B\n",
        "2013-01-02  1.185822  2.276919\n",
        "2013-01-03 -0.502352 -1.612368\n",
        "2013-01-04  0.182792 -1.423139"
       ]
      }
     ],
     "prompt_number": 25
    },
    {
     "cell_type": "code",
     "collapsed": false,
     "input": [
      "#For location selection\n",
      "df.at[dates[0],'A']"
     ],
     "language": "python",
     "metadata": {},
     "outputs": [
      {
       "metadata": {},
       "output_type": "pyout",
       "prompt_number": 26,
       "text": [
        "-0.48099995062325895"
       ]
      }
     ],
     "prompt_number": 26
    },
    {
     "cell_type": "code",
     "collapsed": false,
     "input": [
      "df.loc[dates[0],'A']"
     ],
     "language": "python",
     "metadata": {},
     "outputs": [
      {
       "metadata": {},
       "output_type": "pyout",
       "prompt_number": 27,
       "text": [
        "-0.48099995062325895"
       ]
      }
     ],
     "prompt_number": 27
    },
    {
     "cell_type": "code",
     "collapsed": false,
     "input": [
      "#data grouping\n",
      "df3 = pd.DataFrame({'A' : ['foo', 'bar', 'foo', 'bar',\n",
      "                          'foo', 'bar', 'foo', 'foo'],\n",
      "                   'B' : ['one', 'one', 'two', 'three',\n",
      "                          'two', 'two', 'one', 'three'],\n",
      "                   'C' : np.random.randn(8),\n",
      "                   'D' : np.random.randn(8)})"
     ],
     "language": "python",
     "metadata": {},
     "outputs": [],
     "prompt_number": 28
    },
    {
     "cell_type": "code",
     "collapsed": false,
     "input": [
      "#group by and sum\n",
      "a = df3.groupby('A').sum()\n",
      "b = df3.groupby(['A','B']).sum()"
     ],
     "language": "python",
     "metadata": {},
     "outputs": [],
     "prompt_number": 33
    },
    {
     "cell_type": "code",
     "collapsed": false,
     "input": [
      "a"
     ],
     "language": "python",
     "metadata": {},
     "outputs": [
      {
       "html": [
        "<div style=\"max-height:1000px;max-width:1500px;overflow:auto;\">\n",
        "<table border=\"1\" class=\"dataframe\">\n",
        "  <thead>\n",
        "    <tr style=\"text-align: right;\">\n",
        "      <th></th>\n",
        "      <th>C</th>\n",
        "      <th>D</th>\n",
        "    </tr>\n",
        "    <tr>\n",
        "      <th>A</th>\n",
        "      <th></th>\n",
        "      <th></th>\n",
        "    </tr>\n",
        "  </thead>\n",
        "  <tbody>\n",
        "    <tr>\n",
        "      <th>bar</th>\n",
        "      <td>-1.104223</td>\n",
        "      <td>-3.206316</td>\n",
        "    </tr>\n",
        "    <tr>\n",
        "      <th>foo</th>\n",
        "      <td> 1.300747</td>\n",
        "      <td>-3.367914</td>\n",
        "    </tr>\n",
        "  </tbody>\n",
        "</table>\n",
        "</div>"
       ],
       "metadata": {},
       "output_type": "pyout",
       "prompt_number": 32,
       "text": [
        "            C         D\n",
        "A                      \n",
        "bar -1.104223 -3.206316\n",
        "foo  1.300747 -3.367914"
       ]
      }
     ],
     "prompt_number": 32
    },
    {
     "cell_type": "code",
     "collapsed": false,
     "input": [
      "b"
     ],
     "language": "python",
     "metadata": {},
     "outputs": [
      {
       "html": [
        "<div style=\"max-height:1000px;max-width:1500px;overflow:auto;\">\n",
        "<table border=\"1\" class=\"dataframe\">\n",
        "  <thead>\n",
        "    <tr style=\"text-align: right;\">\n",
        "      <th></th>\n",
        "      <th></th>\n",
        "      <th>C</th>\n",
        "      <th>D</th>\n",
        "    </tr>\n",
        "    <tr>\n",
        "      <th>A</th>\n",
        "      <th>B</th>\n",
        "      <th></th>\n",
        "      <th></th>\n",
        "    </tr>\n",
        "  </thead>\n",
        "  <tbody>\n",
        "    <tr>\n",
        "      <th rowspan=\"3\" valign=\"top\">bar</th>\n",
        "      <th>one</th>\n",
        "      <td> 1.025462</td>\n",
        "      <td>-1.293771</td>\n",
        "    </tr>\n",
        "    <tr>\n",
        "      <th>three</th>\n",
        "      <td>-1.426623</td>\n",
        "      <td>-2.108075</td>\n",
        "    </tr>\n",
        "    <tr>\n",
        "      <th>two</th>\n",
        "      <td>-0.703062</td>\n",
        "      <td> 0.195530</td>\n",
        "    </tr>\n",
        "    <tr>\n",
        "      <th rowspan=\"3\" valign=\"top\">foo</th>\n",
        "      <th>one</th>\n",
        "      <td> 0.238756</td>\n",
        "      <td>-3.706334</td>\n",
        "    </tr>\n",
        "    <tr>\n",
        "      <th>three</th>\n",
        "      <td>-1.467637</td>\n",
        "      <td>-0.811960</td>\n",
        "    </tr>\n",
        "    <tr>\n",
        "      <th>two</th>\n",
        "      <td> 2.529628</td>\n",
        "      <td> 1.150380</td>\n",
        "    </tr>\n",
        "  </tbody>\n",
        "</table>\n",
        "</div>"
       ],
       "metadata": {},
       "output_type": "pyout",
       "prompt_number": 34,
       "text": [
        "                  C         D\n",
        "A   B                        \n",
        "bar one    1.025462 -1.293771\n",
        "    three -1.426623 -2.108075\n",
        "    two   -0.703062  0.195530\n",
        "foo one    0.238756 -3.706334\n",
        "    three -1.467637 -0.811960\n",
        "    two    2.529628  1.150380"
       ]
      }
     ],
     "prompt_number": 34
    },
    {
     "cell_type": "code",
     "collapsed": false,
     "input": [],
     "language": "python",
     "metadata": {},
     "outputs": []
    }
   ],
   "metadata": {}
  }
 ]
}